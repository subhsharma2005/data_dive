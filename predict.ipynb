{
 "cells": [
  {
   "cell_type": "code",
   "execution_count": 1,
   "metadata": {},
   "outputs": [
    {
     "name": "stdout",
     "output_type": "stream",
     "text": [
      "Confusion Matrix:\n",
      "[[1310    3]\n",
      " [  44    7]]\n",
      "\n",
      "Classification Report:\n",
      "              precision    recall  f1-score   support\n",
      "\n",
      "           0       0.97      1.00      0.98      1313\n",
      "           1       0.70      0.14      0.23        51\n",
      "\n",
      "    accuracy                           0.97      1364\n",
      "   macro avg       0.83      0.57      0.61      1364\n",
      "weighted avg       0.96      0.97      0.95      1364\n",
      "\n",
      "      Year  Probability of Bankruptcy  Time to Bankruptcy\n",
      "239   2238                   0.009013           61.342553\n",
      "2850  4849                   0.009791           66.639223\n",
      "2687  4686                   0.000737            5.018691\n",
      "6500  8499                   0.078069          531.334653\n",
      "2684  4683                   0.075563          514.279584\n",
      "...    ...                        ...                 ...\n",
      "1357  3356                   0.019360          131.765570\n",
      "3946  5945                   0.000362            2.464245\n",
      "5491  7490                   0.021449          145.985161\n",
      "2112  4111                   0.109108          742.588525\n",
      "6423  8422                   0.000558            3.800617\n",
      "\n",
      "[1364 rows x 3 columns]\n"
     ]
    }
   ],
   "source": [
    "import pandas as pd\n",
    "from sklearn.model_selection import train_test_split\n",
    "from sklearn.preprocessing import StandardScaler\n",
    "from sklearn.linear_model import LogisticRegression\n",
    "from sklearn.metrics import classification_report, confusion_matrix\n",
    "\n",
    "data = pd.read_csv(\"newdata.csv\")\n",
    "\n",
    "selected_columns = [col for col in data.columns if 'assets' in col.lower() or 'liabilities' in col.lower()]\n",
    "\n",
    "axis_numbers = [data.columns.get_loc(col) for col in selected_columns]\n",
    "\n",
    "selected_columns.append('Bankrupt?')\n",
    "axis_numbers.append(data.columns.get_loc('Bankrupt?'))\n",
    "\n",
    "selected_columns.append('Year')\n",
    "axis_numbers.append(data.columns.get_loc('Year'))\n",
    "\n",
    "data_selected = data.iloc[:, axis_numbers]\n",
    "X = data_selected.drop(columns=[\"Bankrupt?\"]) \n",
    "y = data_selected[\"Bankrupt?\"]\n",
    "\n",
    "X_train, X_test, y_train, y_test = train_test_split(X, y, test_size=0.2, random_state=42)\n",
    "\n",
    "scaler = StandardScaler()\n",
    "X_train_scaled = scaler.fit_transform(X_train)\n",
    "X_test_scaled = scaler.transform(X_test)\n",
    "\n",
    "model = LogisticRegression(random_state=42)\n",
    "model.fit(X_train_scaled, y_train)\n",
    "\n",
    "y_pred = model.predict(X_test_scaled)\n",
    "print(\"Confusion Matrix:\")\n",
    "print(confusion_matrix(y_test, y_pred))\n",
    "print(\"\\nClassification Report:\")\n",
    "print(classification_report(y_test, y_pred))\n",
    "\n",
    "predicted_probabilities = model.predict_proba(X_test_scaled)[:, 1]\n",
    "predicted_time_to_bankruptcy = predicted_probabilities * (X_test['Year'].max() - X_test['Year'].min())\n",
    "\n",
    "predictions_df = pd.DataFrame({'Year': X_test['Year'], 'Probability of Bankruptcy': predicted_probabilities, 'Time to Bankruptcy': predicted_time_to_bankruptcy})\n",
    "\n",
    "print(predictions_df)\n"
   ]
  }
 ],
 "metadata": {
  "kernelspec": {
   "display_name": "Python 3",
   "language": "python",
   "name": "python3"
  },
  "language_info": {
   "codemirror_mode": {
    "name": "ipython",
    "version": 3
   },
   "file_extension": ".py",
   "mimetype": "text/x-python",
   "name": "python",
   "nbconvert_exporter": "python",
   "pygments_lexer": "ipython3",
   "version": "3.11.2"
  }
 },
 "nbformat": 4,
 "nbformat_minor": 2
}
